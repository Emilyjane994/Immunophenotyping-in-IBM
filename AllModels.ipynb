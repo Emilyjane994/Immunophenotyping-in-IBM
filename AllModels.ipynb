{
  "nbformat": 4,
  "nbformat_minor": 0,
  "metadata": {
    "colab": {
      "provenance": [],
      "include_colab_link": true
    },
    "kernelspec": {
      "name": "python3",
      "display_name": "Python 3"
    },
    "language_info": {
      "name": "python"
    },
    "accelerator": "GPU",
    "gpuClass": "standard"
  },
  "cells": [
    {
      "cell_type": "markdown",
      "metadata": {
        "id": "view-in-github",
        "colab_type": "text"
      },
      "source": [
        "<a href=\"https://colab.research.google.com/github/Emilyjane994/Phenotype-paper/blob/main/AllModels.ipynb\" target=\"_parent\"><img src=\"https://colab.research.google.com/assets/colab-badge.svg\" alt=\"Open In Colab\"/></a>"
      ]
    },
    {
      "cell_type": "code",
      "execution_count": null,
      "metadata": {
        "colab": {
          "base_uri": "https://localhost:8080/"
        },
        "id": "x0KNc8kzSjee",
        "outputId": "b480e819-9649-4b3d-83b9-60381832b578"
      },
      "outputs": [
        {
          "output_type": "stream",
          "name": "stdout",
          "text": [
            "Mounted at /content/gdrive\n"
          ]
        }
      ],
      "source": [
        "from google.colab import drive\n",
        "drive.mount('/content/gdrive')"
      ]
    },
    {
      "cell_type": "code",
      "source": [
        "%cd /content/gdrive/My Drive/Manuscript"
      ],
      "metadata": {
        "colab": {
          "base_uri": "https://localhost:8080/"
        },
        "id": "9LcSGUxkSmED",
        "outputId": "cbcb7986-d5b3-4534-8c73-3997a84d94f8"
      },
      "execution_count": null,
      "outputs": [
        {
          "output_type": "stream",
          "name": "stdout",
          "text": [
            "/content/gdrive/My Drive/Manuscript\n"
          ]
        }
      ]
    },
    {
      "cell_type": "code",
      "source": [
        "import pickle\n",
        "from ML_Pipeline.utils import read_data,inspection,null_values, drop_cols\n",
        "from ML_Pipeline.ml_model import prepare_model_originaldata,all_models\n",
        "from ML_Pipeline.evaluate_metrics import confusion_matrix,roc_curve, confusion_matrix_plot\n",
        "# from ML_Pipeline.lime import lime_explanation\n",
        "import pandas as pd\n",
        "import matplotlib.pyplot as plt\n",
        "\n",
        "# to determine the p-values with anova\n",
        "from sklearn.feature_selection import f_classif, f_regression\n",
        "\n",
        "# to select features\n",
        "from sklearn.feature_selection import SelectKBest, SelectPercentile\n",
        "\n",
        "#performance metrics\n",
        "from sklearn.metrics import balanced_accuracy_score, f1_score, precision_score, recall_score\n",
        "from sklearn.metrics import cohen_kappa_score,matthews_corrcoef"
      ],
      "metadata": {
        "id": "_4HN9vKkSmHB"
      },
      "execution_count": null,
      "outputs": []
    },
    {
      "cell_type": "code",
      "source": [
        "# Read the initial datasets\n",
        "df = read_data(\"input/ML_dataset.xlsx\")"
      ],
      "metadata": {
        "id": "u7Coe4lUSmKB"
      },
      "execution_count": null,
      "outputs": []
    },
    {
      "cell_type": "code",
      "source": [
        "df.head()"
      ],
      "metadata": {
        "colab": {
          "base_uri": "https://localhost:8080/",
          "height": 317
        },
        "id": "9owixEDYSmMp",
        "outputId": "0230bbb9-10a8-4f0e-9bc5-94af645f41a6"
      },
      "execution_count": null,
      "outputs": [
        {
          "output_type": "execute_result",
          "data": {
            "text/plain": [
              "   ID# Pathology  Age Sex cN1A status  TCRgd    Vd2  Vd2+Vg9+  Vd2CD27-  \\\n",
              "0  HC1        HC   68   M     Healthy   5.07   8.99      88.2      41.7   \n",
              "1  HC2        HC   73   M     Healthy   3.31   4.16      82.9      84.4   \n",
              "2  HC3        HC   76   M     Healthy   2.29   4.90      93.3      26.3   \n",
              "3  HC4        HC   47   M     Healthy   4.96  52.60      66.6      35.2   \n",
              "4  HC5        HC   49   F     Healthy   1.82  54.00      96.4      24.6   \n",
              "\n",
              "   Vd2+Cx3Cr1+  ...  monocytes  Nkcells  Basophils     cDC  CD56-16b   CD56b  \\\n",
              "0        23.70  ...     1.7690   0.2684     0.0729  0.0346   48.0332  5.5944   \n",
              "1        19.90  ...     2.0229   0.7299     0.0586  0.1710    6.3267  9.3175   \n",
              "2         6.11  ...     0.9251   1.3357     0.0298  0.0083    4.0046  2.4337   \n",
              "3        40.00  ...     1.0097   1.1593     0.0152  0.0022   81.9997  0.9686   \n",
              "4        61.70  ...     1.8146   2.4483     0.0573  0.0309   15.4730  3.9977   \n",
              "\n",
              "   CD56dim  classical_monocytes  int_monocytes  inflam_monocytes  \n",
              "0  46.3724              93.5473         3.7536            2.5068  \n",
              "1  83.7040              91.4568         8.0935            0.3113  \n",
              "2  93.3299              56.3302        37.7022            5.4843  \n",
              "3  16.9870              82.0701        16.1163            2.5150  \n",
              "4  81.4437              97.3687         2.5549            0.0546  \n",
              "\n",
              "[5 rows x 71 columns]"
            ],
            "text/html": [
              "\n",
              "  <div id=\"df-f1a35818-39e7-474d-b577-c52cc19853c5\">\n",
              "    <div class=\"colab-df-container\">\n",
              "      <div>\n",
              "<style scoped>\n",
              "    .dataframe tbody tr th:only-of-type {\n",
              "        vertical-align: middle;\n",
              "    }\n",
              "\n",
              "    .dataframe tbody tr th {\n",
              "        vertical-align: top;\n",
              "    }\n",
              "\n",
              "    .dataframe thead th {\n",
              "        text-align: right;\n",
              "    }\n",
              "</style>\n",
              "<table border=\"1\" class=\"dataframe\">\n",
              "  <thead>\n",
              "    <tr style=\"text-align: right;\">\n",
              "      <th></th>\n",
              "      <th>ID#</th>\n",
              "      <th>Pathology</th>\n",
              "      <th>Age</th>\n",
              "      <th>Sex</th>\n",
              "      <th>cN1A status</th>\n",
              "      <th>TCRgd</th>\n",
              "      <th>Vd2</th>\n",
              "      <th>Vd2+Vg9+</th>\n",
              "      <th>Vd2CD27-</th>\n",
              "      <th>Vd2+Cx3Cr1+</th>\n",
              "      <th>...</th>\n",
              "      <th>monocytes</th>\n",
              "      <th>Nkcells</th>\n",
              "      <th>Basophils</th>\n",
              "      <th>cDC</th>\n",
              "      <th>CD56-16b</th>\n",
              "      <th>CD56b</th>\n",
              "      <th>CD56dim</th>\n",
              "      <th>classical_monocytes</th>\n",
              "      <th>int_monocytes</th>\n",
              "      <th>inflam_monocytes</th>\n",
              "    </tr>\n",
              "  </thead>\n",
              "  <tbody>\n",
              "    <tr>\n",
              "      <th>0</th>\n",
              "      <td>HC1</td>\n",
              "      <td>HC</td>\n",
              "      <td>68</td>\n",
              "      <td>M</td>\n",
              "      <td>Healthy</td>\n",
              "      <td>5.07</td>\n",
              "      <td>8.99</td>\n",
              "      <td>88.2</td>\n",
              "      <td>41.7</td>\n",
              "      <td>23.70</td>\n",
              "      <td>...</td>\n",
              "      <td>1.7690</td>\n",
              "      <td>0.2684</td>\n",
              "      <td>0.0729</td>\n",
              "      <td>0.0346</td>\n",
              "      <td>48.0332</td>\n",
              "      <td>5.5944</td>\n",
              "      <td>46.3724</td>\n",
              "      <td>93.5473</td>\n",
              "      <td>3.7536</td>\n",
              "      <td>2.5068</td>\n",
              "    </tr>\n",
              "    <tr>\n",
              "      <th>1</th>\n",
              "      <td>HC2</td>\n",
              "      <td>HC</td>\n",
              "      <td>73</td>\n",
              "      <td>M</td>\n",
              "      <td>Healthy</td>\n",
              "      <td>3.31</td>\n",
              "      <td>4.16</td>\n",
              "      <td>82.9</td>\n",
              "      <td>84.4</td>\n",
              "      <td>19.90</td>\n",
              "      <td>...</td>\n",
              "      <td>2.0229</td>\n",
              "      <td>0.7299</td>\n",
              "      <td>0.0586</td>\n",
              "      <td>0.1710</td>\n",
              "      <td>6.3267</td>\n",
              "      <td>9.3175</td>\n",
              "      <td>83.7040</td>\n",
              "      <td>91.4568</td>\n",
              "      <td>8.0935</td>\n",
              "      <td>0.3113</td>\n",
              "    </tr>\n",
              "    <tr>\n",
              "      <th>2</th>\n",
              "      <td>HC3</td>\n",
              "      <td>HC</td>\n",
              "      <td>76</td>\n",
              "      <td>M</td>\n",
              "      <td>Healthy</td>\n",
              "      <td>2.29</td>\n",
              "      <td>4.90</td>\n",
              "      <td>93.3</td>\n",
              "      <td>26.3</td>\n",
              "      <td>6.11</td>\n",
              "      <td>...</td>\n",
              "      <td>0.9251</td>\n",
              "      <td>1.3357</td>\n",
              "      <td>0.0298</td>\n",
              "      <td>0.0083</td>\n",
              "      <td>4.0046</td>\n",
              "      <td>2.4337</td>\n",
              "      <td>93.3299</td>\n",
              "      <td>56.3302</td>\n",
              "      <td>37.7022</td>\n",
              "      <td>5.4843</td>\n",
              "    </tr>\n",
              "    <tr>\n",
              "      <th>3</th>\n",
              "      <td>HC4</td>\n",
              "      <td>HC</td>\n",
              "      <td>47</td>\n",
              "      <td>M</td>\n",
              "      <td>Healthy</td>\n",
              "      <td>4.96</td>\n",
              "      <td>52.60</td>\n",
              "      <td>66.6</td>\n",
              "      <td>35.2</td>\n",
              "      <td>40.00</td>\n",
              "      <td>...</td>\n",
              "      <td>1.0097</td>\n",
              "      <td>1.1593</td>\n",
              "      <td>0.0152</td>\n",
              "      <td>0.0022</td>\n",
              "      <td>81.9997</td>\n",
              "      <td>0.9686</td>\n",
              "      <td>16.9870</td>\n",
              "      <td>82.0701</td>\n",
              "      <td>16.1163</td>\n",
              "      <td>2.5150</td>\n",
              "    </tr>\n",
              "    <tr>\n",
              "      <th>4</th>\n",
              "      <td>HC5</td>\n",
              "      <td>HC</td>\n",
              "      <td>49</td>\n",
              "      <td>F</td>\n",
              "      <td>Healthy</td>\n",
              "      <td>1.82</td>\n",
              "      <td>54.00</td>\n",
              "      <td>96.4</td>\n",
              "      <td>24.6</td>\n",
              "      <td>61.70</td>\n",
              "      <td>...</td>\n",
              "      <td>1.8146</td>\n",
              "      <td>2.4483</td>\n",
              "      <td>0.0573</td>\n",
              "      <td>0.0309</td>\n",
              "      <td>15.4730</td>\n",
              "      <td>3.9977</td>\n",
              "      <td>81.4437</td>\n",
              "      <td>97.3687</td>\n",
              "      <td>2.5549</td>\n",
              "      <td>0.0546</td>\n",
              "    </tr>\n",
              "  </tbody>\n",
              "</table>\n",
              "<p>5 rows × 71 columns</p>\n",
              "</div>\n",
              "      <button class=\"colab-df-convert\" onclick=\"convertToInteractive('df-f1a35818-39e7-474d-b577-c52cc19853c5')\"\n",
              "              title=\"Convert this dataframe to an interactive table.\"\n",
              "              style=\"display:none;\">\n",
              "        \n",
              "  <svg xmlns=\"http://www.w3.org/2000/svg\" height=\"24px\"viewBox=\"0 0 24 24\"\n",
              "       width=\"24px\">\n",
              "    <path d=\"M0 0h24v24H0V0z\" fill=\"none\"/>\n",
              "    <path d=\"M18.56 5.44l.94 2.06.94-2.06 2.06-.94-2.06-.94-.94-2.06-.94 2.06-2.06.94zm-11 1L8.5 8.5l.94-2.06 2.06-.94-2.06-.94L8.5 2.5l-.94 2.06-2.06.94zm10 10l.94 2.06.94-2.06 2.06-.94-2.06-.94-.94-2.06-.94 2.06-2.06.94z\"/><path d=\"M17.41 7.96l-1.37-1.37c-.4-.4-.92-.59-1.43-.59-.52 0-1.04.2-1.43.59L10.3 9.45l-7.72 7.72c-.78.78-.78 2.05 0 2.83L4 21.41c.39.39.9.59 1.41.59.51 0 1.02-.2 1.41-.59l7.78-7.78 2.81-2.81c.8-.78.8-2.07 0-2.86zM5.41 20L4 18.59l7.72-7.72 1.47 1.35L5.41 20z\"/>\n",
              "  </svg>\n",
              "      </button>\n",
              "      \n",
              "  <style>\n",
              "    .colab-df-container {\n",
              "      display:flex;\n",
              "      flex-wrap:wrap;\n",
              "      gap: 12px;\n",
              "    }\n",
              "\n",
              "    .colab-df-convert {\n",
              "      background-color: #E8F0FE;\n",
              "      border: none;\n",
              "      border-radius: 50%;\n",
              "      cursor: pointer;\n",
              "      display: none;\n",
              "      fill: #1967D2;\n",
              "      height: 32px;\n",
              "      padding: 0 0 0 0;\n",
              "      width: 32px;\n",
              "    }\n",
              "\n",
              "    .colab-df-convert:hover {\n",
              "      background-color: #E2EBFA;\n",
              "      box-shadow: 0px 1px 2px rgba(60, 64, 67, 0.3), 0px 1px 3px 1px rgba(60, 64, 67, 0.15);\n",
              "      fill: #174EA6;\n",
              "    }\n",
              "\n",
              "    [theme=dark] .colab-df-convert {\n",
              "      background-color: #3B4455;\n",
              "      fill: #D2E3FC;\n",
              "    }\n",
              "\n",
              "    [theme=dark] .colab-df-convert:hover {\n",
              "      background-color: #434B5C;\n",
              "      box-shadow: 0px 1px 3px 1px rgba(0, 0, 0, 0.15);\n",
              "      filter: drop-shadow(0px 1px 2px rgba(0, 0, 0, 0.3));\n",
              "      fill: #FFFFFF;\n",
              "    }\n",
              "  </style>\n",
              "\n",
              "      <script>\n",
              "        const buttonEl =\n",
              "          document.querySelector('#df-f1a35818-39e7-474d-b577-c52cc19853c5 button.colab-df-convert');\n",
              "        buttonEl.style.display =\n",
              "          google.colab.kernel.accessAllowed ? 'block' : 'none';\n",
              "\n",
              "        async function convertToInteractive(key) {\n",
              "          const element = document.querySelector('#df-f1a35818-39e7-474d-b577-c52cc19853c5');\n",
              "          const dataTable =\n",
              "            await google.colab.kernel.invokeFunction('convertToInteractive',\n",
              "                                                     [key], {});\n",
              "          if (!dataTable) return;\n",
              "\n",
              "          const docLinkHtml = 'Like what you see? Visit the ' +\n",
              "            '<a target=\"_blank\" href=https://colab.research.google.com/notebooks/data_table.ipynb>data table notebook</a>'\n",
              "            + ' to learn more about interactive tables.';\n",
              "          element.innerHTML = '';\n",
              "          dataTable['output_type'] = 'display_data';\n",
              "          await google.colab.output.renderOutput(dataTable, element);\n",
              "          const docLink = document.createElement('div');\n",
              "          docLink.innerHTML = docLinkHtml;\n",
              "          element.appendChild(docLink);\n",
              "        }\n",
              "      </script>\n",
              "    </div>\n",
              "  </div>\n",
              "  "
            ]
          },
          "metadata": {},
          "execution_count": 5
        }
      ]
    },
    {
      "cell_type": "code",
      "source": [
        "df = df.replace({\n",
        "    \"Pathology\": {\"HC\":0, \"IBM\":1},\n",
        "    \"Sex\":{\"M\":0, \"F\":1}\n",
        "    })"
      ],
      "metadata": {
        "id": "2548RTMaSmPD"
      },
      "execution_count": null,
      "outputs": []
    },
    {
      "cell_type": "markdown",
      "source": [
        "##Original data "
      ],
      "metadata": {
        "id": "nmIYGJUFTJyj"
      }
    },
    {
      "cell_type": "code",
      "source": [
        "final_report = pd.DataFrame()"
      ],
      "metadata": {
        "id": "V4d1ISSeSmRa"
      },
      "execution_count": null,
      "outputs": []
    },
    {
      "cell_type": "code",
      "source": [
        "## Exclude columns nor required in cols_to_exclude\n",
        "X_train, X_test, y_train, y_test = prepare_model_originaldata(df,class_col='Pathology',\n",
        "                                                              cols_to_exclude=['ID#', 'cN1A status'])"
      ],
      "metadata": {
        "id": "k2eDkBxLSmUE"
      },
      "execution_count": null,
      "outputs": []
    },
    {
      "cell_type": "code",
      "source": [
        "models_report, conf_matrix = all_models(X_train,y_train,X_test,y_test, 'Original') # change model accordingly\n",
        "final_report = final_report.append(models_report, ignore_index=True)\n",
        "models_report"
      ],
      "metadata": {
        "colab": {
          "base_uri": "https://localhost:8080/",
          "height": 841
        },
        "id": "6EukL60xSmWa",
        "outputId": "7fb0f824-5361-4174-acfc-5cb9109b3888"
      },
      "execution_count": null,
      "outputs": [
        {
          "output_type": "stream",
          "name": "stdout",
          "text": [
            "computing GradientBoosting - Original \n",
            "computing RandomForestClassifier - Original \n",
            "computing XGBClassifier - Original \n"
          ]
        },
        {
          "output_type": "execute_result",
          "data": {
            "text/plain": [
              "                    model  matthews_corrcoef  roc_auc_score  precision_score  \\\n",
              "0        GradientBoosting           0.472757       0.910714         0.758621   \n",
              "1  RandomForestClassifier           0.729397       0.937500         0.827586   \n",
              "2           XGBClassifier           0.599175       0.907738         0.840000   \n",
              "\n",
              "   recall_score  f1_score model_type  f1_betascore  95% CI lower bound  \\\n",
              "0      0.916667  0.830189   Original      0.754135            0.799653   \n",
              "1      1.000000  0.905660   Original      0.872932            0.830714   \n",
              "2      0.875000  0.857143   Original      0.813912            0.769127   \n",
              "\n",
              "   95% CI upper bound  \n",
              "0            0.949986  \n",
              "1            0.952620  \n",
              "2            0.936285  "
            ],
            "text/html": [
              "\n",
              "  <div id=\"df-9d2ae3de-a135-4857-92bf-9ba2e9f52166\">\n",
              "    <div class=\"colab-df-container\">\n",
              "      <div>\n",
              "<style scoped>\n",
              "    .dataframe tbody tr th:only-of-type {\n",
              "        vertical-align: middle;\n",
              "    }\n",
              "\n",
              "    .dataframe tbody tr th {\n",
              "        vertical-align: top;\n",
              "    }\n",
              "\n",
              "    .dataframe thead th {\n",
              "        text-align: right;\n",
              "    }\n",
              "</style>\n",
              "<table border=\"1\" class=\"dataframe\">\n",
              "  <thead>\n",
              "    <tr style=\"text-align: right;\">\n",
              "      <th></th>\n",
              "      <th>model</th>\n",
              "      <th>matthews_corrcoef</th>\n",
              "      <th>roc_auc_score</th>\n",
              "      <th>precision_score</th>\n",
              "      <th>recall_score</th>\n",
              "      <th>f1_score</th>\n",
              "      <th>model_type</th>\n",
              "      <th>f1_betascore</th>\n",
              "      <th>95% CI lower bound</th>\n",
              "      <th>95% CI upper bound</th>\n",
              "    </tr>\n",
              "  </thead>\n",
              "  <tbody>\n",
              "    <tr>\n",
              "      <th>0</th>\n",
              "      <td>GradientBoosting</td>\n",
              "      <td>0.472757</td>\n",
              "      <td>0.910714</td>\n",
              "      <td>0.758621</td>\n",
              "      <td>0.916667</td>\n",
              "      <td>0.830189</td>\n",
              "      <td>Original</td>\n",
              "      <td>0.754135</td>\n",
              "      <td>0.799653</td>\n",
              "      <td>0.949986</td>\n",
              "    </tr>\n",
              "    <tr>\n",
              "      <th>1</th>\n",
              "      <td>RandomForestClassifier</td>\n",
              "      <td>0.729397</td>\n",
              "      <td>0.937500</td>\n",
              "      <td>0.827586</td>\n",
              "      <td>1.000000</td>\n",
              "      <td>0.905660</td>\n",
              "      <td>Original</td>\n",
              "      <td>0.872932</td>\n",
              "      <td>0.830714</td>\n",
              "      <td>0.952620</td>\n",
              "    </tr>\n",
              "    <tr>\n",
              "      <th>2</th>\n",
              "      <td>XGBClassifier</td>\n",
              "      <td>0.599175</td>\n",
              "      <td>0.907738</td>\n",
              "      <td>0.840000</td>\n",
              "      <td>0.875000</td>\n",
              "      <td>0.857143</td>\n",
              "      <td>Original</td>\n",
              "      <td>0.813912</td>\n",
              "      <td>0.769127</td>\n",
              "      <td>0.936285</td>\n",
              "    </tr>\n",
              "  </tbody>\n",
              "</table>\n",
              "</div>\n",
              "      <button class=\"colab-df-convert\" onclick=\"convertToInteractive('df-9d2ae3de-a135-4857-92bf-9ba2e9f52166')\"\n",
              "              title=\"Convert this dataframe to an interactive table.\"\n",
              "              style=\"display:none;\">\n",
              "        \n",
              "  <svg xmlns=\"http://www.w3.org/2000/svg\" height=\"24px\"viewBox=\"0 0 24 24\"\n",
              "       width=\"24px\">\n",
              "    <path d=\"M0 0h24v24H0V0z\" fill=\"none\"/>\n",
              "    <path d=\"M18.56 5.44l.94 2.06.94-2.06 2.06-.94-2.06-.94-.94-2.06-.94 2.06-2.06.94zm-11 1L8.5 8.5l.94-2.06 2.06-.94-2.06-.94L8.5 2.5l-.94 2.06-2.06.94zm10 10l.94 2.06.94-2.06 2.06-.94-2.06-.94-.94-2.06-.94 2.06-2.06.94z\"/><path d=\"M17.41 7.96l-1.37-1.37c-.4-.4-.92-.59-1.43-.59-.52 0-1.04.2-1.43.59L10.3 9.45l-7.72 7.72c-.78.78-.78 2.05 0 2.83L4 21.41c.39.39.9.59 1.41.59.51 0 1.02-.2 1.41-.59l7.78-7.78 2.81-2.81c.8-.78.8-2.07 0-2.86zM5.41 20L4 18.59l7.72-7.72 1.47 1.35L5.41 20z\"/>\n",
              "  </svg>\n",
              "      </button>\n",
              "      \n",
              "  <style>\n",
              "    .colab-df-container {\n",
              "      display:flex;\n",
              "      flex-wrap:wrap;\n",
              "      gap: 12px;\n",
              "    }\n",
              "\n",
              "    .colab-df-convert {\n",
              "      background-color: #E8F0FE;\n",
              "      border: none;\n",
              "      border-radius: 50%;\n",
              "      cursor: pointer;\n",
              "      display: none;\n",
              "      fill: #1967D2;\n",
              "      height: 32px;\n",
              "      padding: 0 0 0 0;\n",
              "      width: 32px;\n",
              "    }\n",
              "\n",
              "    .colab-df-convert:hover {\n",
              "      background-color: #E2EBFA;\n",
              "      box-shadow: 0px 1px 2px rgba(60, 64, 67, 0.3), 0px 1px 3px 1px rgba(60, 64, 67, 0.15);\n",
              "      fill: #174EA6;\n",
              "    }\n",
              "\n",
              "    [theme=dark] .colab-df-convert {\n",
              "      background-color: #3B4455;\n",
              "      fill: #D2E3FC;\n",
              "    }\n",
              "\n",
              "    [theme=dark] .colab-df-convert:hover {\n",
              "      background-color: #434B5C;\n",
              "      box-shadow: 0px 1px 3px 1px rgba(0, 0, 0, 0.15);\n",
              "      filter: drop-shadow(0px 1px 2px rgba(0, 0, 0, 0.3));\n",
              "      fill: #FFFFFF;\n",
              "    }\n",
              "  </style>\n",
              "\n",
              "      <script>\n",
              "        const buttonEl =\n",
              "          document.querySelector('#df-9d2ae3de-a135-4857-92bf-9ba2e9f52166 button.colab-df-convert');\n",
              "        buttonEl.style.display =\n",
              "          google.colab.kernel.accessAllowed ? 'block' : 'none';\n",
              "\n",
              "        async function convertToInteractive(key) {\n",
              "          const element = document.querySelector('#df-9d2ae3de-a135-4857-92bf-9ba2e9f52166');\n",
              "          const dataTable =\n",
              "            await google.colab.kernel.invokeFunction('convertToInteractive',\n",
              "                                                     [key], {});\n",
              "          if (!dataTable) return;\n",
              "\n",
              "          const docLinkHtml = 'Like what you see? Visit the ' +\n",
              "            '<a target=\"_blank\" href=https://colab.research.google.com/notebooks/data_table.ipynb>data table notebook</a>'\n",
              "            + ' to learn more about interactive tables.';\n",
              "          element.innerHTML = '';\n",
              "          dataTable['output_type'] = 'display_data';\n",
              "          await google.colab.output.renderOutput(dataTable, element);\n",
              "          const docLink = document.createElement('div');\n",
              "          docLink.innerHTML = docLinkHtml;\n",
              "          element.appendChild(docLink);\n",
              "        }\n",
              "      </script>\n",
              "    </div>\n",
              "  </div>\n",
              "  "
            ]
          },
          "metadata": {},
          "execution_count": 9
        },
        {
          "output_type": "display_data",
          "data": {
            "text/plain": [
              "<Figure size 600x600 with 1 Axes>"
            ],
            "image/png": "[encoded data removed]"
          },
          "metadata": {}
        }
      ]
    },
    {
      "cell_type": "code",
      "source": [
        "#Emily Testing\n",
        "def evaluate(model,xtest,ytest,name):\n",
        "    \n",
        "    ypred=model.predict(xtest)\n",
        "    accuracy=np.round(balanced_accuracy_score(ytest,ypred),4)\n",
        "    precision=np.round(precision_score(ytest,ypred,average='weighted'),4)\n",
        "    recall=np.round(recall_score(ytest,ypred,average='weighted'),4)\n",
        "    f1score=np.round(f1_score(ytest,ypred,average='weighted'),4)\n",
        "    cohenkappa_score=np.round(cohen_kappa_score(ytest,ypred),4)\n",
        "    matthews_corrcoef_=no.round(matthews_corrcoef(ytest,ypred),4)\n",
        "    return accuracy,precision,recall,f1score,cohenkappa_score,matthews_corrcoef_\n",
        "\n",
        "  "
      ],
      "metadata": {
        "id": "oJGKrhsd4FoZ"
      },
      "execution_count": null,
      "outputs": []
    },
    {
      "cell_type": "code",
      "source": [
        "def fit_data(xtrain,ytrain):\n",
        "    \n",
        "    #Gradientboosting\n",
        "    GB=GradientBoosting()\n",
        "    GB.fit(xtrain,ytrain)\n",
        "\n",
        "    #XGBoost Classifier\n",
        "    XGB=XGBClassifier(num_class=labels.shape,eval_metric='mlogloss',use_label_encoder =False)\n",
        "    XGB.fit(xtrain,ytrain)\n",
        "    \n",
        "    #Random Forest Classifier\n",
        "    RF=RandomForestClassifier(max_features=0.2)\n",
        "    RF.fit(xtrain,ytrain)\n",
        "    \n",
        "   performance_list[]\n",
        "\n",
        "   performance_metrics=['accuracy','precision','recall','f1score','cohenkappa_score','matthews_corrcoef_']\n",
        "\n",
        "   indicies=[]\n",
        "\n",
        " #create a dictionary object to store the models\n",
        "    models={'GB':GB,'Random Forest':RF,'XGBoost':XGB}\n",
        "\n",
        "    #evaluate each model stored in the dictionary obbject\n",
        "\n",
        "    for name,model in model_dict.items():\n",
        "      performance=evaluate(model,xtest,ytest,name)\n",
        "      performance_list.append(performance)\n",
        "      indicies.append(name)\n",
        "\n",
        "      performance_frame=pd.DataFrame(performance_list,columns=performance_metrics,index=indicies)\n",
        "      return performance_frame"
      ],
      "metadata": {
        "colab": {
          "base_uri": "https://localhost:8080/",
          "height": 130
        },
        "id": "twtmpyiu4V_n",
        "outputId": "4a4a29fc-0255-4d00-c988-aecb7a82e959"
      },
      "execution_count": null,
      "outputs": [
        {
          "output_type": "error",
          "ename": "IndentationError",
          "evalue": "ignored",
          "traceback": [
            "\u001b[0;36m  File \u001b[0;32m\"<tokenize>\"\u001b[0;36m, line \u001b[0;32m15\u001b[0m\n\u001b[0;31m    performance_list[]\u001b[0m\n\u001b[0m    ^\u001b[0m\n\u001b[0;31mIndentationError\u001b[0m\u001b[0;31m:\u001b[0m unindent does not match any outer indentation level\n"
          ]
        }
      ]
    },
    {
      "cell_type": "code",
      "source": [
        "for name in conf_matrix.keys():\n",
        "  import seaborn as sns\n",
        "  print(f\"Confusion Matrix for {name} :\")\n",
        "  sns.heatmap(conf_matrix[name],annot=True,cmap=\"Blues\",fmt=\"g\", xticklabels=['HC','IBM'], yticklabels=['HC','IBM'])\n",
        "  plt.show()\n",
        "  print('\\n')"
      ],
      "metadata": {
        "colab": {
          "base_uri": "https://localhost:8080/",
          "height": 1000
        },
        "id": "lsRl14WTSmax",
        "outputId": "21f90b40-25cc-48d6-eff7-86778a2211ef"
      },
      "execution_count": null,
      "outputs": [
        {
          "output_type": "stream",
          "name": "stdout",
          "text": [
            "Confusion Matrix for GradientBoosting :\n"
          ]
        },
        {
          "output_type": "display_data",
          "data": {
            "text/plain": [
              "<Figure size 640x480 with 2 Axes>"
            ],
            "image/png": "[encoded data removed]"
          },
          "metadata": {}
        },
        {
          "output_type": "stream",
          "name": "stdout",
          "text": [
            "\n",
            "\n",
            "Confusion Matrix for RandomForestClassifier :\n"
          ]
        },
        {
          "output_type": "display_data",
          "data": {
            "text/plain": [
              "<Figure size 640x480 with 2 Axes>"
            ],
            "image/png": "[encoded data removed]"
          },
          "metadata": {}
        },
        {
          "output_type": "stream",
          "name": "stdout",
          "text": [
            "\n",
            "\n",
            "Confusion Matrix for XGBClassifier :\n"
          ]
        },
        {
          "output_type": "display_data",
          "data": {
            "text/plain": [
              "<Figure size 640x480 with 2 Axes>"
            ],
            "image/png": "[encoded data removed]"
          },
          "metadata": {}
        },
        {
          "output_type": "stream",
          "name": "stdout",
          "text": [
            "\n",
            "\n"
          ]
        }
      ]
    }
  ]
}